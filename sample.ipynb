{
 "cells": [
  {
   "metadata": {},
   "cell_type": "markdown",
   "source": [
    "# Klasyfikacja urządzenia na podstawie cech sygnału elektrycznego\n",
    "W tym notatniku znajduje się prosta implementacja klasyfikacji dla jednego urządzenia na podstawie cech sygnałów prądu, napięcia i mocy. Wykorzystane proste cechy statystyczne oraz klasyfikatory: KNN, Random Forest, SVM i sieć neuronową (MLP)."
   ],
   "id": "8a77807f92f26ee"
  },
  {
   "metadata": {
    "ExecuteTime": {
     "end_time": "2025-05-12T09:30:05.073388Z",
     "start_time": "2025-05-12T09:30:05.070314Z"
    }
   },
   "cell_type": "code",
   "source": [
    "import pandas as pd\n",
    "import numpy as np\n",
    "\n",
    "from sklearn.model_selection import train_test_split\n",
    "from sklearn.preprocessing import StandardScaler\n",
    "from sklearn.neighbors import KNeighborsClassifier\n",
    "from sklearn.ensemble import RandomForestClassifier\n",
    "from sklearn.svm import SVC\n",
    "from sklearn.neural_network import MLPClassifier\n",
    "from sklearn.metrics import accuracy_score"
   ],
   "id": "fbc121e30a2defb3",
   "outputs": [],
   "execution_count": 2
  },
  {
   "metadata": {},
   "cell_type": "markdown",
   "source": "## Wczytanie danych pomiarowych dla komputera",
   "id": "ba528efa0d35c4e1"
  },
  {
   "metadata": {},
   "cell_type": "code",
   "outputs": [],
   "execution_count": null,
   "source": [
    "df = pd.read_csv('komputer.csv')\n",
    "df.head()"
   ],
   "id": "9231ed02bb69a039"
  },
  {
   "metadata": {},
   "cell_type": "markdown",
   "source": [
    "## Ekstrakcja prostych cech z sygnału\n",
    "Wyliczamy cechy z okien czasowych (np. co 20 próbek), takie jak:\n",
    "- średnia i odchylenie mocy,\n",
    "- maksymalny prąd,\n",
    "- minimalne napięcie,\n",
    "- średni prąd,\n",
    "- odchylenie napięcia."
   ],
   "id": "9728bb9d84506ef5"
  },
  {
   "metadata": {},
   "cell_type": "code",
   "outputs": [],
   "execution_count": null,
   "source": [
    "window_size = 20\n",
    "\n",
    "samples = []\n",
    "\n",
    "for i in range(0, len(df) - window_size, window_size):\n",
    "    window = df.iloc[i:i+window_size]\n",
    "    \n",
    "    features = {\n",
    "        'mean_watt': window['watt'].mean(),\n",
    "        'std_watt': window['watt'].std(),\n",
    "        'max_current': window['current'].max(),\n",
    "        'min_voltage': window['voltage'].min(),\n",
    "        'mean_current': window['current'].mean(),\n",
    "        'std_voltage': window['voltage'].std(),\n",
    "        'label': 1  # komputer\n",
    "    }\n",
    "    samples.append(features)\n",
    "\n",
    "data = pd.DataFrame(samples)\n",
    "data.head()"
   ],
   "id": "37c0681f032138c4"
  },
  {
   "metadata": {},
   "cell_type": "markdown",
   "source": [
    "# Oznaczenie klasy 0 (nieaktywne) i 1 (aktywne) na podstawie wartości mocy\n",
    "Załóżmy, że próg 5 W oddziela aktywność od braku działania"
   ],
   "id": "9d7622baffae1af6"
  },
  {
   "metadata": {
    "ExecuteTime": {
     "end_time": "2025-05-12T09:49:12.334498Z",
     "start_time": "2025-05-12T09:49:12.319260Z"
    }
   },
   "cell_type": "code",
   "source": [
    "data['label'] = (data['watt'] > 5).astype(int)\n",
    "\n",
    "# Sprawdźmy rozkład klas\n",
    "data['label'].value_counts()\n",
    "full_data = data.copy()"
   ],
   "id": "ca80c5792527a1b7",
   "outputs": [
    {
     "ename": "NameError",
     "evalue": "name 'data' is not defined",
     "output_type": "error",
     "traceback": [
      "\u001B[1;31m---------------------------------------------------------------------------\u001B[0m",
      "\u001B[1;31mNameError\u001B[0m                                 Traceback (most recent call last)",
      "Cell \u001B[1;32mIn[6], line 1\u001B[0m\n\u001B[1;32m----> 1\u001B[0m data[\u001B[38;5;124m'\u001B[39m\u001B[38;5;124mlabel\u001B[39m\u001B[38;5;124m'\u001B[39m] \u001B[38;5;241m=\u001B[39m (data[\u001B[38;5;124m'\u001B[39m\u001B[38;5;124mwatt\u001B[39m\u001B[38;5;124m'\u001B[39m] \u001B[38;5;241m>\u001B[39m \u001B[38;5;241m5\u001B[39m)\u001B[38;5;241m.\u001B[39mastype(\u001B[38;5;28mint\u001B[39m)\n\u001B[0;32m      3\u001B[0m \u001B[38;5;66;03m# Sprawdźmy rozkład klas\u001B[39;00m\n\u001B[0;32m      4\u001B[0m data[\u001B[38;5;124m'\u001B[39m\u001B[38;5;124mlabel\u001B[39m\u001B[38;5;124m'\u001B[39m]\u001B[38;5;241m.\u001B[39mvalue_counts()\n",
      "\u001B[1;31mNameError\u001B[0m: name 'data' is not defined"
     ]
    }
   ],
   "execution_count": 6
  },
  {
   "metadata": {},
   "cell_type": "markdown",
   "source": [
    "## Przygotowanie danych do klasyfikacji\n",
    "Normalizacja cech i podział danych na zbiory treningowe i testowe."
   ],
   "id": "6c36b19d28cb3a2a"
  },
  {
   "metadata": {},
   "cell_type": "code",
   "outputs": [],
   "execution_count": null,
   "source": [
    "X = full_data.drop('label', axis=1)\n",
    "y = full_data['label']\n",
    "\n",
    "scaler = StandardScaler()\n",
    "X_scaled = scaler.fit_transform(X)\n",
    "\n",
    "X_train, X_test, y_train, y_test = train_test_split(\n",
    "    X_scaled, y, test_size=0.3, random_state=42\n",
    ")"
   ],
   "id": "885e3d68e95e3f5e"
  },
  {
   "metadata": {},
   "cell_type": "markdown",
   "source": [
    "## Trening i ocena klasyfikatorów\n",
    "Trenujemy i testujemy 4 klasyfikatory: KNN, Random Forest, SVM oraz MLP (prosta sieć neuronowa). Wypisujemy dokładność predykcji."
   ],
   "id": "13e43e470ef4a364"
  },
  {
   "metadata": {},
   "cell_type": "code",
   "outputs": [],
   "execution_count": null,
   "source": [
    "# KNN\n",
    "knn = KNeighborsClassifier(n_neighbors=3)\n",
    "knn.fit(X_train, y_train)\n",
    "y_pred_knn = knn.predict(X_test)\n",
    "print(\"KNN Accuracy:\", accuracy_score(y_test, y_pred_knn))\n",
    "\n",
    "# Random Forest\n",
    "rf = RandomForestClassifier(n_estimators=100)\n",
    "rf.fit(X_train, y_train)\n",
    "y_pred_rf = rf.predict(X_test)\n",
    "print(\"Random Forest Accuracy:\", accuracy_score(y_test, y_pred_rf))\n",
    "\n",
    "# SVM\n",
    "svm = SVC(kernel='rbf')\n",
    "svm.fit(X_train, y_train)\n",
    "y_pred_svm = svm.predict(X_test)\n",
    "print(\"SVM Accuracy:\", accuracy_score(y_test, y_pred_svm))\n",
    "\n",
    "# MLP (Neural Network)\n",
    "mlp = MLPClassifier(hidden_layer_sizes=(64, 32), max_iter=500)\n",
    "mlp.fit(X_train, y_train)\n",
    "y_pred_mlp = mlp.predict(X_test)\n",
    "print(\"MLP Accuracy:\", accuracy_score(y_test, y_pred_mlp))"
   ],
   "id": "2e365756d1c134c2"
  },
  {
   "metadata": {},
   "cell_type": "markdown",
   "source": [
    "## Macierze pomyłek (Confusion Matrices)\n",
    "Wizualizacja tego, jak dobrze klasyfikatory rozróżniają klasę \"lodówka\" i \"brak urządzenia\"."
   ],
   "id": "e9290d2d37040890"
  },
  {
   "metadata": {},
   "cell_type": "code",
   "outputs": [],
   "execution_count": null,
   "source": [
    "from sklearn.metrics import confusion_matrix, ConfusionMatrixDisplay\n",
    "import matplotlib.pyplot as plt\n",
    "\n",
    "def show_conf_matrix(y_true, y_pred, title):\n",
    "    cm = confusion_matrix(y_true, y_pred)\n",
    "    disp = ConfusionMatrixDisplay(confusion_matrix=cm, display_labels=[\"Brak\", \"Lodówka\"])\n",
    "    disp.plot(cmap=\"Blues\", values_format='d')\n",
    "    plt.title(title)\n",
    "    plt.show()\n",
    "\n",
    "show_conf_matrix(y_test, y_pred_knn, \"KNN\")\n",
    "show_conf_matrix(y_test, y_pred_rf, \"Random Forest\")\n",
    "show_conf_matrix(y_test, y_pred_svm, \"SVM\")\n",
    "show_conf_matrix(y_test, y_pred_mlp, \"MLP\")"
   ],
   "id": "62060fb8372c92d1"
  },
  {
   "metadata": {},
   "cell_type": "markdown",
   "source": [
    "## Metryki klasyfikacji (Precision, Recall, F1-score)\n",
    "Zestawienie metryk, które pokazują skuteczność detekcji każdej z klas."
   ],
   "id": "c92b0798b261080c"
  },
  {
   "metadata": {},
   "cell_type": "code",
   "outputs": [],
   "execution_count": null,
   "source": [
    "from sklearn.metrics import classification_report\n",
    "\n",
    "print(\"KNN:\\n\", classification_report(y_test, y_pred_knn, target_names=[\"Brak\", \"Lodówka\"]))\n",
    "print(\"Random Forest:\\n\", classification_report(y_test, y_pred_rf, target_names=[\"Brak\", \"Lodówka\"]))\n",
    "print(\"SVM:\\n\", classification_report(y_test, y_pred_svm, target_names=[\"Brak\", \"Lodówka\"]))\n",
    "print(\"MLP:\\n\", classification_report(y_test, y_pred_mlp, target_names=[\"Brak\", \"Lodówka\"]))"
   ],
   "id": "f5edef863f442f6a"
  },
  {
   "metadata": {},
   "cell_type": "markdown",
   "source": [
    "## Sprawdzenie liczby próbek w każdej klasie\n",
    "Upewniamy się, że klasy są zrównoważone."
   ],
   "id": "4279957efd0317be"
  },
  {
   "metadata": {},
   "cell_type": "code",
   "outputs": [],
   "execution_count": null,
   "source": "full_data['label'].value_counts()",
   "id": "1ab728cd47d1dd5b"
  },
  {
   "metadata": {},
   "cell_type": "markdown",
   "source": [
    "## Wizualizacja PCA – podgląd separacji klas\n",
    "Redukcja wymiarów do 2D dla szybkiego podglądu, jak rozkładają się klasy."
   ],
   "id": "69a35692865cb86e"
  },
  {
   "metadata": {},
   "cell_type": "code",
   "outputs": [],
   "execution_count": null,
   "source": [
    "from sklearn.decomposition import PCA\n",
    "\n",
    "pca = PCA(n_components=2)\n",
    "X_pca = pca.fit_transform(X_scaled)\n",
    "\n",
    "plt.figure(figsize=(8, 6))\n",
    "plt.scatter(X_pca[:, 0], X_pca[:, 1], c=y, cmap='coolwarm', alpha=0.6)\n",
    "plt.title(\"Rozkład klas po redukcji PCA (2D)\")\n",
    "plt.xlabel(\"PCA 1\")\n",
    "plt.ylabel(\"PCA 2\")\n",
    "plt.grid(True)\n",
    "plt.show()"
   ],
   "id": "6b10d9bb954371e2"
  }
 ],
 "metadata": {
  "kernelspec": {
   "display_name": "Python 3",
   "language": "python",
   "name": "python3"
  },
  "language_info": {
   "codemirror_mode": {
    "name": "ipython",
    "version": 2
   },
   "file_extension": ".py",
   "mimetype": "text/x-python",
   "name": "python",
   "nbconvert_exporter": "python",
   "pygments_lexer": "ipython2",
   "version": "2.7.6"
  }
 },
 "nbformat": 4,
 "nbformat_minor": 5
}
